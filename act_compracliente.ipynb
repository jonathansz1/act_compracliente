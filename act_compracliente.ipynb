{
 "cells": [
  {
   "cell_type": "code",
   "execution_count": 4,
   "metadata": {},
   "outputs": [
    {
     "name": "stdout",
     "output_type": "stream",
     "text": [
      "El monto total de tu compra es de  800.0\n"
     ]
    }
   ],
   "source": [
    "cantidad=0\n",
    "monto=float(input(\"Hola, ingresa el monto de tu compra (0 para salir):\"))\n",
    "while monto!=0:\n",
    "    if monto<0:\n",
    "        print(\"Monto no valido, ingresa un monto positivo\")\n",
    "    else:\n",
    "        cantidad+=monto\n",
    "    monto=float(input(\"Hola, ingresa el siguiente monto de tu compra (0 para salir):\"))\n",
    "if cantidad>1000:\n",
    "    cantidad-=cantidad*0.1\n",
    "    print(\"El monto total de tu compra con descuento es de \",cantidad)\n",
    "else:\n",
    "    print(\"El monto total de tu compra es de \", cantidad)"
   ]
  },
  {
   "cell_type": "code",
   "execution_count": null,
   "metadata": {},
   "outputs": [],
   "source": []
  }
 ],
 "metadata": {
  "kernelspec": {
   "display_name": "Python 3.6.13 ('python_fundamentals')",
   "language": "python",
   "name": "python3"
  },
  "language_info": {
   "codemirror_mode": {
    "name": "ipython",
    "version": 3
   },
   "file_extension": ".py",
   "mimetype": "text/x-python",
   "name": "python",
   "nbconvert_exporter": "python",
   "pygments_lexer": "ipython3",
   "version": "3.6.13"
  },
  "orig_nbformat": 4,
  "vscode": {
   "interpreter": {
    "hash": "602e81f1fc20b9d83015157eccc25d9328edb1b85a6e3eaaf2e3d011ebad2a9f"
   }
  }
 },
 "nbformat": 4,
 "nbformat_minor": 2
}
